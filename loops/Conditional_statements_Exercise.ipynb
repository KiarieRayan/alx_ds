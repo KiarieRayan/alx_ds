{
 "cells": [
  {
   "cell_type": "markdown",
   "metadata": {},
   "source": [
    "<div align=\"center\" style=\" font-size: 80%; text-align: center; margin: 0 auto\">\n",
    "<img src=\"https://raw.githubusercontent.com/Explore-AI/Pictures/master/Python-Notebook-Banners/Exercise.png\"  style=\"display: block; margin-left: auto; margin-right: auto;\";/>\n",
    "</div>"
   ]
  },
  {
   "cell_type": "markdown",
   "id": "1ceab647",
   "metadata": {},
   "source": [
    "# Exercise: Conditional statements\n",
    "© ExploreAI Academy"
   ]
  },
  {
   "cell_type": "markdown",
   "id": "e80e6089",
   "metadata": {},
   "source": [
    "In this exercise, we practise using various conditional statements to solve problems."
   ]
  },
  {
   "cell_type": "markdown",
   "metadata": {},
   "source": [
    "## Learning objectives\n",
    "\n",
    "In this train, we will practise:\n",
    "- Using `if`, `elif`, `else`, and nested conditions to make decisions in Python.\n",
    "- Applying logical and ternary operators for efficient conditional logic."
   ]
  },
  {
   "cell_type": "markdown",
   "metadata": {},
   "source": [
    "## Exercises"
   ]
  },
  {
   "cell_type": "markdown",
   "id": "51ad27d2",
   "metadata": {},
   "source": [
    "### Exercise 1\n",
    "\n",
    "Use conditional statements to categorise an animal based on its risk status. The program should define a variable, `individuals_in_wild` (representing the number of individuals in the wild), and use it to print the correct response based on the following categories: \n",
    "- `\"Critically Endangered\"` for less than `1000` individuals. \n",
    "- `\"Endangered\"` for `1000` to `5000` individuals. \n",
    "- `\"Vulnerable\"` for `5001` to `20000` individuals. \n",
    "- `\"Safe\"` for more than `20000` individuals.\n",
    "\n",
    "Assume there are `5500` leopards left in South Africa. Assign this number to `individuals_in_wild` and note what category they fall under."
   ]
  },
  {
   "cell_type": "code",
   "execution_count": 42,
   "metadata": {},
   "outputs": [],
   "source": [
    "#Elif\n",
    "# we can use a variable but I wanted to play around with the code\n",
    "# individuals_in_wild = 20000\n",
    "def animal_risk(riskindividuals_in_wild):\n",
    "    \"\"\"\n",
    "    the function everytime it is called and the individuals_in_wild is passed\n",
    "    it returns the number of \n",
    "    individuals and prints the status\n",
    "    \"\"\"\n",
    "    if riskindividuals_in_wild < 1000 :\n",
    "        print(\"Critically Endagered\")\n",
    "    elif 1000 <= riskindividuals_in_wild <= 5000:\n",
    "            print(\"Endagered\")\n",
    "    elif 5001 <= riskindividuals_in_wild <= 20000:\n",
    "        print(\"Vulnerable\")\n",
    "    elif 20000 < riskindividuals_in_wild:\n",
    "        print(\"safe\")\n",
    "    return f\"this are the numbers that were endagered : {riskindividuals_in_wild}\""
   ]
  },
  {
   "cell_type": "code",
   "execution_count": 43,
   "metadata": {},
   "outputs": [
    {
     "name": "stdout",
     "output_type": "stream",
     "text": [
      "safe\n"
     ]
    },
    {
     "data": {
      "text/plain": [
       "'this are the numbers that were endagered : 200000'"
      ]
     },
     "execution_count": 43,
     "metadata": {},
     "output_type": "execute_result"
    }
   ],
   "source": [
    "#function is called and the parameter value entered inside the funtion call\n",
    "animal_risk(200000)\n",
    "# this are the numbers that were endagered : number here"
   ]
  },
  {
   "cell_type": "markdown",
   "id": "e15cb96e",
   "metadata": {},
   "source": [
    "### Exercise 2\n",
    "\n",
    " Use conditional statements to determine if a region is experiencing water scarcity. The program should store two variables: `rainfall` (the average annual rainfall in mm) and `population_density` (people per square km). It should print the appropriate message based on the following criteria to determine water scarcity:\n",
    "\n",
    "- `\"Severe Scarcity\"` if rainfall is less than `500`mm and population density is more than `500` people per square km.\n",
    "- `\"Moderate Scarcity\"` if both of the following are true:\n",
    "    - Rainfall is between `500`mm and `1000`mm, inclusive.\n",
    "    - Population density is between `200` and `500`, inclusive.\n",
    "- `\"No Scarcity\"` otherwise.\n",
    "\n",
    "Assume the annual `rainfall` is `205`mm and the `population_density` is `448` per square km."
   ]
  },
  {
   "cell_type": "code",
   "execution_count": 59,
   "metadata": {},
   "outputs": [],
   "source": [
    "def func(rainfall, population):\n",
    "    if rainfall < 500 and population > 500:\n",
    "        print(\"Severe Scarcity\")\n",
    "    elif 500 <= rainfall <= 1000 and 200 <= population <= 500:\n",
    "        print(\"Moderate Scarcity\")\n",
    "    else:\n",
    "        print(\"No Scarcity\")\n",
    "\n",
    "# Any numbers can be assigned to these variables\n"
   ]
  },
  {
   "cell_type": "code",
   "execution_count": 78,
   "metadata": {},
   "outputs": [
    {
     "name": "stdout",
     "output_type": "stream",
     "text": [
      "<class 'tuple'>\n"
     ]
    },
    {
     "data": {
      "text/plain": [
       "(7, 1, 2, 3, 4, 5, 6, 7, 7, 8, 9, 0)"
      ]
     },
     "execution_count": 78,
     "metadata": {},
     "output_type": "execute_result"
    }
   ],
   "source": [
    "fun1(7,1,2,3,4,5,6,7,7,8,9,0)"
   ]
  },
  {
   "cell_type": "code",
   "execution_count": 50,
   "metadata": {},
   "outputs": [],
   "source": [
    "#nested if\n",
    "# rainfall = 400\n",
    "# population_density = 502\n",
    "\n",
    "#the function should do the trick but we have to pass parameter rather than having fixed values.\n",
    "def people_affected(rainfall,population_density):\n",
    "    if rainfall < 500 and population_density > 500:\n",
    "        print(\"Severe Scarcity\")\n",
    "    elif 500 <= rainfall <= 1000 and 200 <= population_density <=500:\n",
    "        print(\"Moderate Scarcity\")\n",
    "    else:\n",
    "        print(\"No scarcity\")"
   ]
  },
  {
   "cell_type": "code",
   "execution_count": 54,
   "metadata": {},
   "outputs": [
    {
     "name": "stdout",
     "output_type": "stream",
     "text": [
      "Severe Scarcity\n"
     ]
    }
   ],
   "source": [
    "people_affected(50,507)"
   ]
  },
  {
   "cell_type": "code",
   "execution_count": 89,
   "metadata": {},
   "outputs": [],
   "source": [
    "#materials can be:\n",
    "# material = \"paper\"\n",
    "# size = \"small\"\n",
    "#function categorizes items when called and material and size is passed\n",
    "def class_material(material, size):\n",
    "    if size == \"large\":\n",
    "        if material == \"metal\" or material == \"glass\":\n",
    "            print(\"Special Handling\")\n",
    "    elif size ==\"small\":\n",
    "        if material == \"metal\" or material == \"glass\":\n",
    "            print(\"Standard Recycling\")\n",
    "        elif material == \"paper\":\n",
    "            print(\"Composting\")\n",
    "        else:\n",
    "            print(\"Landfill\")\n",
    "    else:\n",
    "        print(\"Let's hope it works\")"
   ]
  },
  {
   "cell_type": "code",
   "execution_count": 90,
   "metadata": {},
   "outputs": [
    {
     "name": "stdout",
     "output_type": "stream",
     "text": [
      "Composting\n"
     ]
    }
   ],
   "source": [
    "# material = \"paper\", \"plastic\",\"metal\",\"glass\"\n",
    "# size = \"small\",\"medium\",\"large\"\n",
    "class_material('paper','small')"
   ]
  },
  {
   "cell_type": "markdown",
   "id": "314b69ed",
   "metadata": {},
   "source": [
    "### Exercise 4\n",
    "\n",
    "Write a program to evaluate the use of renewable energy sources in a household. The program should define a variable `solar` that stores whether or not a household uses solar (`True` or `False` values only). If a household does not use solar, print `\"Needs Improvement\"`. Otherwise, print `\"Eco-friendly\"`.\n",
    "\n",
    "Note: You must solve this exercise using `if not`."
   ]
  },
  {
   "cell_type": "code",
   "execution_count": 80,
   "metadata": {},
   "outputs": [],
   "source": [
    "#function evaluates if the household uses renewable energy or not.\n",
    "def renewable_enegry(solar):\n",
    "    if not solar:\n",
    "        return \"Needs Improvement\"\n",
    "    else:\n",
    "        return \"Eco-friendly\""
   ]
  },
  {
   "cell_type": "code",
   "execution_count": 81,
   "metadata": {},
   "outputs": [
    {
     "data": {
      "text/plain": [
       "'Needs Improvement'"
      ]
     },
     "execution_count": 81,
     "metadata": {},
     "output_type": "execute_result"
    }
   ],
   "source": [
    "renewable_enegry(False)"
   ]
  },
  {
   "cell_type": "markdown",
   "id": "fd22165c",
   "metadata": {},
   "source": [
    "### Exercise 5\n",
    "\n",
    "Write a program that issues an alert if deforestation in an area exceeds a certain threshold. Define a variable `deforestation_rate` (it can be any number between `0` and `1`). \n",
    "\n",
    "If the `deforestation_rate` is above `0.1`, print `\"High Alert\"`. If it is not, nothing should be printed."
   ]
  },
  {
   "cell_type": "code",
   "execution_count": 93,
   "metadata": {},
   "outputs": [],
   "source": [
    "# insert code here\n",
    "def deforestation_alert(rate):\n",
    "    if rate > 0.1:\n",
    "        print(\"High Alert\")\n",
    "    else:\n",
    "        print(\"Don't sweat it\")"
   ]
  },
  {
   "cell_type": "code",
   "execution_count": 94,
   "metadata": {},
   "outputs": [
    {
     "name": "stdout",
     "output_type": "stream",
     "text": [
      "High Alert\n"
     ]
    }
   ],
   "source": [
    "deforestation_alert(2)"
   ]
  },
  {
   "cell_type": "markdown",
   "id": "914eba02",
   "metadata": {},
   "source": [
    "### Exercise 6\n",
    "\n",
    "Develop a program to check the air quality index (AQI).\n",
    "\n",
    "The program should define a variable `aqi` (it can be any integer value between `0` and `300`). It should then use a ternary operator to print `\"Poor Air Quality\"` if `aqi` is above `100`, or `\"Good Air Quality\"` otherwise."
   ]
  },
  {
   "cell_type": "code",
   "execution_count": 96,
   "metadata": {},
   "outputs": [
    {
     "name": "stdout",
     "output_type": "stream",
     "text": [
      "this is a ternary operator and it says: Good Quality\n"
     ]
    }
   ],
   "source": [
    "aqi = 102\n",
    "ter = \"Poor Quality\" if aqi < 100 else \"Good Quality\"\n",
    "print(f'this is a ternary operator and it says: {ter}')"
   ]
  },
  {
   "cell_type": "code",
   "execution_count": 97,
   "metadata": {},
   "outputs": [],
   "source": [
    "#or we can use a function and remember the function is reusable.\n",
    "def ternaryy(aqi):\n",
    "    terr = \"Poor Quality\" if aqi < 100 else \"Good Quality\"\n",
    "    return terr"
   ]
  },
  {
   "cell_type": "code",
   "execution_count": 99,
   "metadata": {},
   "outputs": [
    {
     "data": {
      "text/plain": [
       "'Poor Quality'"
      ]
     },
     "execution_count": 99,
     "metadata": {},
     "output_type": "execute_result"
    }
   ],
   "source": [
    "ternaryy(10)"
   ]
  },
  {
   "cell_type": "markdown",
   "metadata": {},
   "source": [
    "- Alternatively"
   ]
  },
  {
   "cell_type": "code",
   "execution_count": 83,
   "metadata": {},
   "outputs": [],
   "source": [
    "#funtion asks for user input. the if input < 100 poor else good\n",
    "def air_quality():\n",
    "    aqi = int(input('please input any number between 0 and 300'))\n",
    "    print(type(aqi))\n",
    "    if aqi < 100:\n",
    "        return \"Poor Air Quality\"\n",
    "    else:\n",
    "        return \"Good Air Quality\"\n"
   ]
  },
  {
   "cell_type": "code",
   "execution_count": 84,
   "metadata": {},
   "outputs": [
    {
     "name": "stdout",
     "output_type": "stream",
     "text": [
      "<class 'int'>\n"
     ]
    },
    {
     "data": {
      "text/plain": [
       "'Good Air Quality'"
      ]
     },
     "execution_count": 84,
     "metadata": {},
     "output_type": "execute_result"
    }
   ],
   "source": [
    "air_quality()"
   ]
  },
  {
   "cell_type": "markdown",
   "id": "dc10e22c",
   "metadata": {},
   "source": [
    "## Solutions"
   ]
  },
  {
   "cell_type": "markdown",
   "id": "b542a6ff",
   "metadata": {},
   "source": [
    "### Exercise 1"
   ]
  },
  {
   "cell_type": "code",
   "execution_count": 9,
   "id": "21f4ef7b",
   "metadata": {},
   "outputs": [
    {
     "name": "stdout",
     "output_type": "stream",
     "text": [
      "Vulnerable\n"
     ]
    }
   ],
   "source": [
    "# Any number can be assigned to this variable\n",
    "individuals_in_wild = 5500\n",
    "\n",
    "# Prints vulnerability message\n",
    "if individuals_in_wild < 1000:\n",
    "    print(\"Critically Endangered\")\n",
    "elif 1000 <= individuals_in_wild <= 5000:\n",
    "    print(\"Endangered\")\n",
    "elif 5001 <= individuals_in_wild <= 20000:\n",
    "    print(\"Vulnerable\")\n",
    "else:\n",
    "    print(\"Safe\")"
   ]
  },
  {
   "cell_type": "markdown",
   "metadata": {},
   "source": [
    "Or, since our program checks our statements from top to bottom, we could code our solution more simply as follows:"
   ]
  },
  {
   "cell_type": "code",
   "execution_count": 10,
   "metadata": {},
   "outputs": [
    {
     "name": "stdout",
     "output_type": "stream",
     "text": [
      "Vulnerable\n"
     ]
    }
   ],
   "source": [
    "individuals_in_wild = 5500\n",
    "\n",
    "if individuals_in_wild < 1000:\n",
    "    print('Critically Endangered')\n",
    "elif individuals_in_wild <= 5000:\n",
    "    print('Endangered')\n",
    "elif individuals_in_wild <= 20000:\n",
    "    print('Vulnerable')\n",
    "else:\n",
    "    print('Safe')"
   ]
  },
  {
   "cell_type": "markdown",
   "id": "6cf90985",
   "metadata": {},
   "source": [
    "### Exercise 2"
   ]
  },
  {
   "cell_type": "code",
   "execution_count": 56,
   "id": "923b1f9e",
   "metadata": {},
   "outputs": [
    {
     "name": "stdout",
     "output_type": "stream",
     "text": [
      "No Scarcity\n"
     ]
    }
   ],
   "source": [
    "# Any numbers can be assigned to these variables\n",
    "rainfall = 205\n",
    "population_density = 448\n",
    "\n",
    "# Check if there is water scarcity\n",
    "if rainfall < 500 and population_density > 500:\n",
    "    print(\"Severe Scarcity\")\n",
    "elif 500 <= rainfall <= 1000 and 200 <= population_density <= 500:\n",
    "    print(\"Moderate Scarcity\")\n",
    "else:\n",
    "    print(\"No Scarcity\")"
   ]
  },
  {
   "cell_type": "markdown",
   "id": "c0afc3c4",
   "metadata": {},
   "source": [
    "### Exercise 3"
   ]
  },
  {
   "cell_type": "code",
   "execution_count": 12,
   "id": "9610405d",
   "metadata": {},
   "outputs": [
    {
     "name": "stdout",
     "output_type": "stream",
     "text": [
      "Special Handling\n"
     ]
    }
   ],
   "source": [
    "# Any of the specified types can be assigned to these variables\n",
    "material = \"glass\"\n",
    "size = \"large\"\n",
    "\n",
    "# Check recycling category\n",
    "if size == \"large\" and (material == \"metal\" or material == \"glass\"):\n",
    "    print(\"Special Handling\")\n",
    "elif size == \"medium\" or (size == \"small\" and (material == \"metal\" or material == \"glass\")):\n",
    "    print(\"Standard Recycling\")\n",
    "elif size == \"small\" and material == \"paper\":\n",
    "    print(\"Composting\")\n",
    "else:\n",
    "    print(\"Landfill\")"
   ]
  },
  {
   "cell_type": "markdown",
   "id": "85eaf823",
   "metadata": {},
   "source": [
    "### Exercise 4"
   ]
  },
  {
   "cell_type": "code",
   "execution_count": 66,
   "id": "efd3c272",
   "metadata": {},
   "outputs": [
    {
     "name": "stdout",
     "output_type": "stream",
     "text": [
      "Eco-friendly\n"
     ]
    }
   ],
   "source": [
    "# True or False can be assigned to this variable\n",
    "solar = True\n",
    "\n",
    "if not solar:\n",
    "    print(\"Needs Improvement\")\n",
    "else:\n",
    "    print(\"Eco-friendly\")"
   ]
  },
  {
   "cell_type": "markdown",
   "id": "c4c3aa20",
   "metadata": {},
   "source": [
    "### Exercise 5"
   ]
  },
  {
   "cell_type": "code",
   "execution_count": 14,
   "id": "1ac60dcb",
   "metadata": {},
   "outputs": [
    {
     "name": "stdout",
     "output_type": "stream",
     "text": [
      "High Alert\n"
     ]
    }
   ],
   "source": [
    "# Any rate can be assigned to this variable\n",
    "deforestation_rate = 0.6\n",
    "\n",
    "if deforestation_rate > 0.1:\n",
    "    print(\"High Alert\")\n",
    "else:\n",
    "    pass"
   ]
  },
  {
   "cell_type": "markdown",
   "metadata": {},
   "source": [
    "Note: The `pass` statement is technically not required here, as we would get the same behaviour if we removed the `else` statement altogether. Instead, it is just being used as a placeholder."
   ]
  },
  {
   "cell_type": "markdown",
   "id": "73ddad71",
   "metadata": {},
   "source": [
    "### Exercise 6"
   ]
  },
  {
   "cell_type": "code",
   "execution_count": 15,
   "id": "2b6b0efa",
   "metadata": {},
   "outputs": [
    {
     "name": "stdout",
     "output_type": "stream",
     "text": [
      "Good Air Quality\n"
     ]
    }
   ],
   "source": [
    "# Assign any aqi value\n",
    "aqi = 77\n",
    "\n",
    "# Use a ternary operator to check air quality\n",
    "print(\"Poor Air Quality\") if aqi > 100 else print(\"Good Air Quality\")"
   ]
  }
 ],
 "metadata": {
  "kernelspec": {
   "display_name": "Python 3 (ipykernel)",
   "language": "python",
   "name": "python3"
  },
  "language_info": {
   "codemirror_mode": {
    "name": "ipython",
    "version": 3
   },
   "file_extension": ".py",
   "mimetype": "text/x-python",
   "name": "python",
   "nbconvert_exporter": "python",
   "pygments_lexer": "ipython3",
   "version": "3.11.5"
  }
 },
 "nbformat": 4,
 "nbformat_minor": 5
}
