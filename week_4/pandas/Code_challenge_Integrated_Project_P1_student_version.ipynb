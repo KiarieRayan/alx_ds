{
 "cells": [
  {
   "cell_type": "markdown",
   "id": "0dae6f8f",
   "metadata": {},
   "source": [
    "<div align=\"center\" style=\" font-size: 80%; text-align: center; margin: 0 auto\">\n",
    "<img src=\"https://raw.githubusercontent.com/Explore-AI/Pictures/master/Python-Notebook-Banners/Code_challenge.png\"  style=\"display: block; margin-left: auto; margin-right: auto;\";/>\n",
    "</div>"
   ]
  },
  {
   "cell_type": "markdown",
   "id": "f662d169",
   "metadata": {},
   "source": [
    "## Integrated Project: Understanding Maji Ndogo's agriculture\n",
    "© ExploreAI Academy"
   ]
  },
  {
   "cell_type": "markdown",
   "id": "26af890c",
   "metadata": {},
   "source": [
    "In this coding challenge, we will apply all of the skills we learned in Pandas."
   ]
  },
  {
   "cell_type": "markdown",
   "id": "2d230d14",
   "metadata": {
    "tags": []
   },
   "source": [
    "⚠️ **Note that this code challenge is graded and will contribute to your overall marks for this module. Submit this notebook for grading. Note that the names of the functions are different in this notebook. Transfer the code in your notebook to this submission notebook**\n",
    "\n",
    "### Instructions\n",
    "\n",
    "- **Do not add or remove cells in this notebook. Do not edit or remove the `### START FUNCTION` or `### END FUNCTION` comments. Do not add any code outside of the functions you are required to edit. Doing any of this will lead to a mark of 0%!**\n",
    "\n",
    "- Answer the questions according to the specifications provided.\n",
    "\n",
    "- Use the given cell in each question to see if your function matches the expected outputs.\n",
    "\n",
    "- Do not hard-code answers to the questions.\n",
    "\n",
    "- The use of StackOverflow, Google, and other online tools is permitted. However, copying a fellow student's code is not permissible and is considered a breach of the Honour code. Doing this will result in a mark of 0%."
   ]
  },
  {
   "cell_type": "markdown",
   "id": "8944ccbc",
   "metadata": {},
   "source": [
    "# Introduction"
   ]
  },
  {
   "cell_type": "markdown",
   "id": "cf2e633f",
   "metadata": {},
   "source": [
    "Hey there, I'm glad you're on board for the Maji Ndogo project AGAIN! Let me walk you through what we're up against and how we'll tackle it.\n",
    "\n",
    "As you know, we're in an ambitious project aimed at automating farming in Maji Ndogo, a place with diverse and challenging agricultural landscapes. Before we dive into the 'how' of farming, we need to figure out the 'where' and 'what'. It's not just about deploying technology; it's about making informed decisions on where to plant specific crops, considering factors like rainfall, soil type, climate, and many others.\n",
    "\n",
    "Our analysis is the groundwork for this entire automation project. We have an array of variables like soil fertility, climate conditions, and geographical data. By understanding these elements, we can recommend the best locations for different crops. It's a bit like solving a complex puzzle – each piece of data is crucial to seeing the bigger picture.\n",
    "\n",
    "We'll start by importing our dataset into a DataFrame. It is currently in an SQLite database, and split into tables. Unlike Power BI or SQL, data analysis in Python happens in a single table. So we will have to brush off those dusty SQL skills to get the data imported. Expect a bit of a mess in the data – it's part of the challenge. We need to clean it up and maybe reshape it to make sense of it. It's like sorting out the tools and materials we need and getting rid of what we don't.\n",
    "\n",
    "Here's where the real fun begins. We'll dive deep into the data, looking for patterns, and correlations. Each clue in the data leads us closer to understanding the best farming practices for Maji Ndogo. I'll be relying on your skills and insights. We'll be working through these steps together, discussing our findings and strategies.\n",
    "\n",
    "Let's gear up and get ready to make a real difference in Maji Ndogo. Ready to get started? Let's dive into our data and see what stories it has to tell us.\n",
    "\n",
    "Sanaa."
   ]
  },
  {
   "cell_type": "markdown",
   "id": "147be850",
   "metadata": {},
   "source": [
    "# Data dictionary"
   ]
  },
  {
   "cell_type": "markdown",
   "id": "bfe8e55e",
   "metadata": {},
   "source": [
    "**1. Geographic features**\n",
    "\n",
    "- **Field_ID:** A unique identifier for each field (BigInt).\n",
    " \n",
    "- **Elevation:** The elevation of the field above sea level in metres (Float).\n",
    "\n",
    "- **Latitude:** Geographical latitude of the field in degrees (Float).\n",
    "\n",
    "- **Longitude:** Geographical longitude of the field in degrees (Float).\n",
    "\n",
    "- **Location:** Province the field is in (Text).\n",
    "\n",
    "- **Slope:** The slope of the land in the field (Float).\n",
    "\n",
    "**2. Weather features**\n",
    "\n",
    "- **Field_ID:** Corresponding field identifier (BigInt).\n",
    "\n",
    "- **Rainfall:** Amount of rainfall in the area in mm (Float).\n",
    "\n",
    "- **Min_temperature_C:** Average minimum temperature recorded in Celsius (Float).\n",
    "\n",
    "- **Max_temperature_C:** Average maximum temperature recorded in Celsius (Float).\n",
    "\n",
    "- **Ave_temps:** Average temperature in Celcius (Float).\n",
    "\n",
    "**3. Soil and crop features**\n",
    "\n",
    "- **Field_ID:** Corresponding field identifier (BigInt).\n",
    "\n",
    "- **Soil_fertility:** A measure of soil fertility where 0 is infertile soil, and 1 is very fertile soil (Float).\n",
    "\n",
    "- **Soil_type:** Type of soil present in the field (Text).\n",
    "\n",
    "- **pH:** pH level of the soil, which is a measure of how acidic/basic the soil is (Float).\n",
    "\n",
    "**4. Farm management features**\n",
    "\n",
    "- **Field_ID:** Corresponding field identifier (BigInt).\n",
    "\n",
    "- **Pollution_level:** Level of pollution in the area where 0 is unpolluted and 1 is very polluted (Float).\n",
    "\n",
    "- **Plot_size:** Size of the plot in the field (Ha) (Float).\n",
    "\n",
    "- **Chosen_crop:** Type of crop chosen for cultivation (Text).\n",
    "\n",
    "- **Annual_yield:** Annual yield from the field (Float). This is the total output of the field. The field size and type of crop will affect the Annual Yield\n",
    "\n",
    "- **Standard_yield:** Standardised yield expected from the field, normalised per crop (Float). This is independent of field size, or crop type. Multiplying this number by the field size, and average crop yield will give the Annual_Yield."
   ]
  },
  {
   "cell_type": "markdown",
   "id": "936f0f12",
   "metadata": {},
   "source": [
    "**Average yield (tons/Ha) per crop type:**\n",
    "- **Coffee:** 1.5 \n",
    "\n",
    "- **Wheat:** 3\n",
    "\n",
    "- **Rice:** 4.5\n",
    "\n",
    "- **Maize:** 5.5\n",
    "\n",
    "- **Tea:** 1.2\n",
    "\n",
    "- **Potato:** 20\n",
    "\n",
    "- **Banana:** 30\n",
    "\n",
    "- **Cassava:** 13\n",
    "\n"
   ]
  },
  {
   "cell_type": "markdown",
   "id": "03b39b1a",
   "metadata": {},
   "source": [
    "Alright, let's walk through the process of importing our SQL data from multiple tables into a single DataFrame. This is a crucial step as it sets the foundation for all our subsequent analyses.\n",
    "\n",
    "We're dealing with an SQLite database, `Maji_Ndogo_farm_survey.db`, which contains multiple tables. We'll need to join these tables on a common key to create a comprehensive dataset for our analysis. The common key in our case is `Field_ID`.\n",
    "\n",
    "Here’s how we can do it:"
   ]
  },
  {
   "cell_type": "code",
   "execution_count": 1,
   "id": "aedfcf44",
   "metadata": {},
   "outputs": [
    {
     "name": "stderr",
     "output_type": "stream",
     "text": [
      "C:\\Users\\PC\\anaconda3\\envs\\DS_Python\\Lib\\site-packages\\pandas\\core\\arrays\\masked.py:60: UserWarning: Pandas requires version '1.3.6' or newer of 'bottleneck' (version '1.3.5' currently installed).\n",
      "  from pandas.core import (\n",
      "C:\\Users\\PC\\AppData\\Local\\Temp\\ipykernel_15960\\2628011197.py:1: DeprecationWarning: \n",
      "Pyarrow will become a required dependency of pandas in the next major release of pandas (pandas 3.0),\n",
      "(to allow more performant data types, such as the Arrow string type, and better interoperability with other libraries)\n",
      "but was not found to be installed on your system.\n",
      "If this would cause problems for you,\n",
      "please provide us feedback at https://github.com/pandas-dev/pandas/issues/54466\n",
      "        \n",
      "  import pandas as pd # importing the Pandas package with an alias, pd\n"
     ]
    }
   ],
   "source": [
    "import pandas as pd # importing the Pandas package with an alias, pd\n",
    "from sqlalchemy import create_engine, text # Importing the SQL interface. If this fails, run !pip install sqlalchemy in another cell.\n",
    "\n",
    "# Create an engine for the database\n",
    "engine = create_engine('sqlite:///Maji_Ndogo_farm_survey_small.db') #Make sure to have the .db file in the same directory as this notebook, and the file name matches."
   ]
  },
  {
   "cell_type": "markdown",
   "id": "50b71f19",
   "metadata": {},
   "source": [
    "Next up, we test if the connection works by printing out all of the table names in the database."
   ]
  },
  {
   "cell_type": "code",
   "execution_count": 2,
   "id": "40ee695d",
   "metadata": {},
   "outputs": [
    {
     "name": "stdout",
     "output_type": "stream",
     "text": [
      "('geographic_features',)\n",
      "('weather_features',)\n",
      "('soil_and_crop_features',)\n",
      "('farm_management_features',)\n"
     ]
    }
   ],
   "source": [
    "with engine.connect() as connection:\n",
    "    result = connection.execute(text(\"SELECT name FROM sqlite_master WHERE type='table';\"))\n",
    "    for row in result:\n",
    "        print(row)"
   ]
  },
  {
   "cell_type": "markdown",
   "id": "e5838b83",
   "metadata": {},
   "source": [
    "**Expected output:**\n",
    "\n",
    "`('geographic_features',)`\n",
    "\n",
    "`('weather_features',)`\n",
    "\n",
    "`('soil_and_crop_features',)`\n",
    "\n",
    "`('farm_management_features',)`"
   ]
  },
  {
   "cell_type": "markdown",
   "id": "6ce2023f",
   "metadata": {},
   "source": [
    "At this point, we have two choices:\n",
    "\n",
    "1. Either we import each table into a DataFrame, for example, `df_geographic`, then merge them together.\n",
    "\n",
    "2. Use one SQL query and read it into a single DataFrame.\n",
    "\n",
    "While both are equally viable, let's try to use a single SQL query to keep things simple."
   ]
  },
  {
   "cell_type": "markdown",
   "id": "aa9cd3cf",
   "metadata": {},
   "source": [
    "Next, we'll write an SQL query to join our tables. Combine all of the tables into a single query, using `Field_ID`."
   ]
  },
  {
   "cell_type": "code",
   "execution_count": 5,
   "id": "0c6a0d9f",
   "metadata": {},
   "outputs": [],
   "source": [
    "sql_query = \"\"\"\n",
    "SELECT *\n",
    "FROM geographic_features as g\n",
    "JOIN weather_features as w\n",
    "ON g.Field_ID = w.Field_ID\n",
    "JOIN soil_and_crop_features as sc\n",
    "ON g.Field_ID = sc.Field_ID\n",
    "JOIN farm_management_features as fm\n",
    "ON g.Field_ID = fm.Field_ID;\n",
    "\"\"\""
   ]
  },
  {
   "cell_type": "markdown",
   "id": "c476ff1c",
   "metadata": {},
   "source": [
    "With our engine and query ready, we'll use `Pandas` to execute the query. The `pd.read_sql_query` function fetches the data and loads it into a DataFrame – essentially transferring our data from the database into a familiar `Pandas` structure. If you use one query, you will import it all into `MD_agric_df`. "
   ]
  },
  {
   "cell_type": "code",
   "execution_count": 6,
   "id": "fd4653b4",
   "metadata": {},
   "outputs": [],
   "source": [
    "# Create a connection object\n",
    "with engine.connect() as connection:\n",
    "    \n",
    "    # Use Pandas to execute the query and store the result in a DataFrame\n",
    "    MD_agric_df = pd.read_sql_query(text(sql_query), connection)"
   ]
  },
  {
   "cell_type": "markdown",
   "id": "6171c658",
   "metadata": {},
   "source": [
    "Check the DataFrame to see if it loaded correctly."
   ]
  },
  {
   "cell_type": "code",
   "execution_count": 12,
   "id": "3e370c4c",
   "metadata": {},
   "outputs": [
    {
     "data": {
      "text/html": [
       "<div>\n",
       "<style scoped>\n",
       "    .dataframe tbody tr th:only-of-type {\n",
       "        vertical-align: middle;\n",
       "    }\n",
       "\n",
       "    .dataframe tbody tr th {\n",
       "        vertical-align: top;\n",
       "    }\n",
       "\n",
       "    .dataframe thead th {\n",
       "        text-align: right;\n",
       "    }\n",
       "</style>\n",
       "<table border=\"1\" class=\"dataframe\">\n",
       "  <thead>\n",
       "    <tr style=\"text-align: right;\">\n",
       "      <th></th>\n",
       "      <th>Elevation</th>\n",
       "      <th>Latitude</th>\n",
       "      <th>Longitude</th>\n",
       "      <th>Location</th>\n",
       "      <th>Slope</th>\n",
       "      <th>Rainfall</th>\n",
       "      <th>Min_temperature_C</th>\n",
       "      <th>Max_temperature_C</th>\n",
       "      <th>Ave_temps</th>\n",
       "      <th>Soil_fertility</th>\n",
       "      <th>Soil_type</th>\n",
       "      <th>pH</th>\n",
       "      <th>Pollution_level</th>\n",
       "      <th>Plot_size</th>\n",
       "      <th>Crop_type</th>\n",
       "      <th>Annual_yield</th>\n",
       "      <th>Standard_yield</th>\n",
       "    </tr>\n",
       "  </thead>\n",
       "  <tbody>\n",
       "    <tr>\n",
       "      <th>0</th>\n",
       "      <td>786.05580</td>\n",
       "      <td>-7.389911</td>\n",
       "      <td>-7.556202</td>\n",
       "      <td>Rural_Akatsi</td>\n",
       "      <td>14.795113</td>\n",
       "      <td>1125.2</td>\n",
       "      <td>-3.1</td>\n",
       "      <td>33.1</td>\n",
       "      <td>15.00</td>\n",
       "      <td>0.62</td>\n",
       "      <td>Sandy</td>\n",
       "      <td>6.169393</td>\n",
       "      <td>8.526684e-02</td>\n",
       "      <td>1.3</td>\n",
       "      <td>0.751354</td>\n",
       "      <td>cassava</td>\n",
       "      <td>0.577964</td>\n",
       "    </tr>\n",
       "    <tr>\n",
       "      <th>1</th>\n",
       "      <td>674.33410</td>\n",
       "      <td>-7.736849</td>\n",
       "      <td>-1.051539</td>\n",
       "      <td>Rural_Sokoto</td>\n",
       "      <td>11.374611</td>\n",
       "      <td>1450.7</td>\n",
       "      <td>-3.9</td>\n",
       "      <td>30.6</td>\n",
       "      <td>13.35</td>\n",
       "      <td>0.64</td>\n",
       "      <td>Volcanic</td>\n",
       "      <td>5.676648</td>\n",
       "      <td>3.996838e-01</td>\n",
       "      <td>2.2</td>\n",
       "      <td>1.069865</td>\n",
       "      <td>cassava</td>\n",
       "      <td>0.486302</td>\n",
       "    </tr>\n",
       "    <tr>\n",
       "      <th>2</th>\n",
       "      <td>826.53390</td>\n",
       "      <td>-9.926616</td>\n",
       "      <td>0.115156</td>\n",
       "      <td>Rural_Sokoto</td>\n",
       "      <td>11.339692</td>\n",
       "      <td>2208.9</td>\n",
       "      <td>-1.8</td>\n",
       "      <td>28.4</td>\n",
       "      <td>13.30</td>\n",
       "      <td>0.69</td>\n",
       "      <td>Volcanic</td>\n",
       "      <td>5.331993</td>\n",
       "      <td>3.580286e-01</td>\n",
       "      <td>3.4</td>\n",
       "      <td>2.208801</td>\n",
       "      <td>tea</td>\n",
       "      <td>0.649647</td>\n",
       "    </tr>\n",
       "    <tr>\n",
       "      <th>3</th>\n",
       "      <td>574.94617</td>\n",
       "      <td>-2.420131</td>\n",
       "      <td>-6.592215</td>\n",
       "      <td>Rural_Kilimani</td>\n",
       "      <td>7.109855</td>\n",
       "      <td>328.8</td>\n",
       "      <td>-5.8</td>\n",
       "      <td>32.2</td>\n",
       "      <td>13.20</td>\n",
       "      <td>0.54</td>\n",
       "      <td>Loamy</td>\n",
       "      <td>5.328150</td>\n",
       "      <td>2.866871e-01</td>\n",
       "      <td>2.4</td>\n",
       "      <td>1.277635</td>\n",
       "      <td>cassava</td>\n",
       "      <td>0.532348</td>\n",
       "    </tr>\n",
       "    <tr>\n",
       "      <th>4</th>\n",
       "      <td>886.35300</td>\n",
       "      <td>-3.055434</td>\n",
       "      <td>-7.952609</td>\n",
       "      <td>Rural_Kilimani</td>\n",
       "      <td>55.007656</td>\n",
       "      <td>785.2</td>\n",
       "      <td>-2.5</td>\n",
       "      <td>31.0</td>\n",
       "      <td>14.25</td>\n",
       "      <td>0.72</td>\n",
       "      <td>Sandy</td>\n",
       "      <td>5.721234</td>\n",
       "      <td>4.319027e-02</td>\n",
       "      <td>1.5</td>\n",
       "      <td>0.832614</td>\n",
       "      <td>wheat</td>\n",
       "      <td>0.555076</td>\n",
       "    </tr>\n",
       "    <tr>\n",
       "      <th>5</th>\n",
       "      <td>850.56647</td>\n",
       "      <td>-2.050665</td>\n",
       "      <td>-7.132769</td>\n",
       "      <td>Rural_Kilimani</td>\n",
       "      <td>50.451250</td>\n",
       "      <td>649.4</td>\n",
       "      <td>-3.0</td>\n",
       "      <td>29.5</td>\n",
       "      <td>13.25</td>\n",
       "      <td>0.70</td>\n",
       "      <td>Sandy</td>\n",
       "      <td>5.484350</td>\n",
       "      <td>1.275280e-01</td>\n",
       "      <td>1.7</td>\n",
       "      <td>1.112611</td>\n",
       "      <td>potato</td>\n",
       "      <td>0.654477</td>\n",
       "    </tr>\n",
       "    <tr>\n",
       "      <th>6</th>\n",
       "      <td>331.35538</td>\n",
       "      <td>-13.409517</td>\n",
       "      <td>-6.722849</td>\n",
       "      <td>Rural_Hawassa</td>\n",
       "      <td>5.907423</td>\n",
       "      <td>1586.0</td>\n",
       "      <td>-6.8</td>\n",
       "      <td>31.8</td>\n",
       "      <td>12.50</td>\n",
       "      <td>0.63</td>\n",
       "      <td>Silt</td>\n",
       "      <td>7.061317</td>\n",
       "      <td>4.315457e-07</td>\n",
       "      <td>2.9</td>\n",
       "      <td>0.994325</td>\n",
       "      <td>banana</td>\n",
       "      <td>0.342871</td>\n",
       "    </tr>\n",
       "    <tr>\n",
       "      <th>7</th>\n",
       "      <td>790.73846</td>\n",
       "      <td>-3.785356</td>\n",
       "      <td>-1.470468</td>\n",
       "      <td>Rural_Kilimani</td>\n",
       "      <td>15.380596</td>\n",
       "      <td>1188.3</td>\n",
       "      <td>-3.0</td>\n",
       "      <td>31.0</td>\n",
       "      <td>14.00</td>\n",
       "      <td>0.63</td>\n",
       "      <td>Sandy</td>\n",
       "      <td>4.577043</td>\n",
       "      <td>6.131074e-01</td>\n",
       "      <td>1.4</td>\n",
       "      <td>0.558899</td>\n",
       "      <td>tea</td>\n",
       "      <td>0.399214</td>\n",
       "    </tr>\n",
       "    <tr>\n",
       "      <th>8</th>\n",
       "      <td>742.72180</td>\n",
       "      <td>-10.237509</td>\n",
       "      <td>-0.736216</td>\n",
       "      <td>Rural_Sokoto</td>\n",
       "      <td>3.431843</td>\n",
       "      <td>2143.3</td>\n",
       "      <td>-2.6</td>\n",
       "      <td>28.2</td>\n",
       "      <td>12.80</td>\n",
       "      <td>0.66</td>\n",
       "      <td>Volcanic</td>\n",
       "      <td>5.447321</td>\n",
       "      <td>2.784792e-01</td>\n",
       "      <td>13.9</td>\n",
       "      <td>8.532665</td>\n",
       "      <td>coffee</td>\n",
       "      <td>0.613861</td>\n",
       "    </tr>\n",
       "    <tr>\n",
       "      <th>9</th>\n",
       "      <td>747.38030</td>\n",
       "      <td>-3.767334</td>\n",
       "      <td>-3.105643</td>\n",
       "      <td>Rural_Kilimani</td>\n",
       "      <td>8.239554</td>\n",
       "      <td>796.6</td>\n",
       "      <td>-3.8</td>\n",
       "      <td>32.7</td>\n",
       "      <td>14.45</td>\n",
       "      <td>0.58</td>\n",
       "      <td>Sandy</td>\n",
       "      <td>4.897414</td>\n",
       "      <td>3.103862e-01</td>\n",
       "      <td>4.6</td>\n",
       "      <td>2.214679</td>\n",
       "      <td>cassava</td>\n",
       "      <td>0.481452</td>\n",
       "    </tr>\n",
       "    <tr>\n",
       "      <th>10</th>\n",
       "      <td>756.92020</td>\n",
       "      <td>-7.538599</td>\n",
       "      <td>-0.578555</td>\n",
       "      <td>Rural_Sokoto</td>\n",
       "      <td>9.371509</td>\n",
       "      <td>1544.7</td>\n",
       "      <td>-3.1</td>\n",
       "      <td>30.5</td>\n",
       "      <td>13.70</td>\n",
       "      <td>0.64</td>\n",
       "      <td>Volcanic</td>\n",
       "      <td>5.831129</td>\n",
       "      <td>4.451287e-01</td>\n",
       "      <td>3.2</td>\n",
       "      <td>1.516281</td>\n",
       "      <td>coffee</td>\n",
       "      <td>0.473838</td>\n",
       "    </tr>\n",
       "    <tr>\n",
       "      <th>11</th>\n",
       "      <td>393.83450</td>\n",
       "      <td>-12.855317</td>\n",
       "      <td>-8.159821</td>\n",
       "      <td>Rural_Akatsi</td>\n",
       "      <td>36.340670</td>\n",
       "      <td>1753.3</td>\n",
       "      <td>-6.3</td>\n",
       "      <td>31.8</td>\n",
       "      <td>12.75</td>\n",
       "      <td>0.74</td>\n",
       "      <td>Silt</td>\n",
       "      <td>6.254509</td>\n",
       "      <td>3.991820e-03</td>\n",
       "      <td>1.9</td>\n",
       "      <td>0.936805</td>\n",
       "      <td>banana</td>\n",
       "      <td>0.493055</td>\n",
       "    </tr>\n",
       "    <tr>\n",
       "      <th>12</th>\n",
       "      <td>660.68270</td>\n",
       "      <td>-2.640910</td>\n",
       "      <td>-3.839896</td>\n",
       "      <td>Rural_Kilimani</td>\n",
       "      <td>8.705346</td>\n",
       "      <td>612.7</td>\n",
       "      <td>-4.7</td>\n",
       "      <td>29.8</td>\n",
       "      <td>12.55</td>\n",
       "      <td>0.57</td>\n",
       "      <td>Sandy</td>\n",
       "      <td>5.491848</td>\n",
       "      <td>1.890157e-01</td>\n",
       "      <td>4.2</td>\n",
       "      <td>2.606619</td>\n",
       "      <td>potato</td>\n",
       "      <td>0.620624</td>\n",
       "    </tr>\n",
       "    <tr>\n",
       "      <th>13</th>\n",
       "      <td>790.90894</td>\n",
       "      <td>-8.822722</td>\n",
       "      <td>-7.421064</td>\n",
       "      <td>Rural_Akatsi</td>\n",
       "      <td>17.159893</td>\n",
       "      <td>1575.0</td>\n",
       "      <td>-2.8</td>\n",
       "      <td>31.6</td>\n",
       "      <td>14.40</td>\n",
       "      <td>0.66</td>\n",
       "      <td>Volcanic</td>\n",
       "      <td>5.555430</td>\n",
       "      <td>5.162512e-02</td>\n",
       "      <td>1.1</td>\n",
       "      <td>0.793193</td>\n",
       "      <td>tea</td>\n",
       "      <td>0.721085</td>\n",
       "    </tr>\n",
       "    <tr>\n",
       "      <th>14</th>\n",
       "      <td>618.16815</td>\n",
       "      <td>-8.813710</td>\n",
       "      <td>-0.938924</td>\n",
       "      <td>Rural_Sokoto</td>\n",
       "      <td>23.239878</td>\n",
       "      <td>1673.9</td>\n",
       "      <td>-4.2</td>\n",
       "      <td>30.9</td>\n",
       "      <td>13.35</td>\n",
       "      <td>0.69</td>\n",
       "      <td>Silt</td>\n",
       "      <td>5.580686</td>\n",
       "      <td>9.116491e-02</td>\n",
       "      <td>1.3</td>\n",
       "      <td>0.582260</td>\n",
       "      <td>cassava</td>\n",
       "      <td>0.447893</td>\n",
       "    </tr>\n",
       "    <tr>\n",
       "      <th>15</th>\n",
       "      <td>639.52563</td>\n",
       "      <td>-5.916549</td>\n",
       "      <td>-2.114628</td>\n",
       "      <td>Rural_Hawassa</td>\n",
       "      <td>0.854950</td>\n",
       "      <td>913.0</td>\n",
       "      <td>-4.7</td>\n",
       "      <td>32.4</td>\n",
       "      <td>13.85</td>\n",
       "      <td>0.56</td>\n",
       "      <td>Sandy</td>\n",
       "      <td>5.688561</td>\n",
       "      <td>7.038842e-01</td>\n",
       "      <td>13.1</td>\n",
       "      <td>4.451768</td>\n",
       "      <td>wheat</td>\n",
       "      <td>0.339830</td>\n",
       "    </tr>\n",
       "    <tr>\n",
       "      <th>16</th>\n",
       "      <td>808.43085</td>\n",
       "      <td>-8.561391</td>\n",
       "      <td>-1.974985</td>\n",
       "      <td>Rural_Sokoto</td>\n",
       "      <td>16.707561</td>\n",
       "      <td>1693.4</td>\n",
       "      <td>-2.4</td>\n",
       "      <td>30.0</td>\n",
       "      <td>13.80</td>\n",
       "      <td>0.67</td>\n",
       "      <td>Volcanic</td>\n",
       "      <td>3.768238</td>\n",
       "      <td>1.008553e-01</td>\n",
       "      <td>1.2</td>\n",
       "      <td>0.767907</td>\n",
       "      <td>tea</td>\n",
       "      <td>0.639922</td>\n",
       "    </tr>\n",
       "    <tr>\n",
       "      <th>17</th>\n",
       "      <td>454.19534</td>\n",
       "      <td>-10.377186</td>\n",
       "      <td>-7.353495</td>\n",
       "      <td>Rural_Akatsi</td>\n",
       "      <td>9.985941</td>\n",
       "      <td>1700.5</td>\n",
       "      <td>-5.6</td>\n",
       "      <td>31.3</td>\n",
       "      <td>12.85</td>\n",
       "      <td>0.65</td>\n",
       "      <td>Silt</td>\n",
       "      <td>7.196079</td>\n",
       "      <td>3.038204e-02</td>\n",
       "      <td>2.5</td>\n",
       "      <td>0.960322</td>\n",
       "      <td>banana</td>\n",
       "      <td>0.384129</td>\n",
       "    </tr>\n",
       "    <tr>\n",
       "      <th>18</th>\n",
       "      <td>768.06274</td>\n",
       "      <td>-8.074776</td>\n",
       "      <td>0.480030</td>\n",
       "      <td>Rural_Sokoto</td>\n",
       "      <td>10.411442</td>\n",
       "      <td>1756.8</td>\n",
       "      <td>-2.7</td>\n",
       "      <td>32.4</td>\n",
       "      <td>14.85</td>\n",
       "      <td>0.66</td>\n",
       "      <td>Volcanic</td>\n",
       "      <td>4.434905</td>\n",
       "      <td>1.709666e-01</td>\n",
       "      <td>2.5</td>\n",
       "      <td>1.952492</td>\n",
       "      <td>tea</td>\n",
       "      <td>0.780997</td>\n",
       "    </tr>\n",
       "    <tr>\n",
       "      <th>19</th>\n",
       "      <td>610.99400</td>\n",
       "      <td>-6.948353</td>\n",
       "      <td>-2.966000</td>\n",
       "      <td>Rural_Hawassa</td>\n",
       "      <td>16.369598</td>\n",
       "      <td>902.8</td>\n",
       "      <td>-4.9</td>\n",
       "      <td>28.4</td>\n",
       "      <td>11.75</td>\n",
       "      <td>0.61</td>\n",
       "      <td>Loamy</td>\n",
       "      <td>4.698949</td>\n",
       "      <td>3.034867e-01</td>\n",
       "      <td>1.5</td>\n",
       "      <td>0.791114</td>\n",
       "      <td>wheat</td>\n",
       "      <td>0.527409</td>\n",
       "    </tr>\n",
       "  </tbody>\n",
       "</table>\n",
       "</div>"
      ],
      "text/plain": [
       "    Elevation   Latitude  Longitude        Location      Slope  Rainfall  \\\n",
       "0   786.05580  -7.389911  -7.556202    Rural_Akatsi  14.795113    1125.2   \n",
       "1   674.33410  -7.736849  -1.051539    Rural_Sokoto  11.374611    1450.7   \n",
       "2   826.53390  -9.926616   0.115156    Rural_Sokoto  11.339692    2208.9   \n",
       "3   574.94617  -2.420131  -6.592215  Rural_Kilimani   7.109855     328.8   \n",
       "4   886.35300  -3.055434  -7.952609  Rural_Kilimani  55.007656     785.2   \n",
       "5   850.56647  -2.050665  -7.132769  Rural_Kilimani  50.451250     649.4   \n",
       "6   331.35538 -13.409517  -6.722849   Rural_Hawassa   5.907423    1586.0   \n",
       "7   790.73846  -3.785356  -1.470468  Rural_Kilimani  15.380596    1188.3   \n",
       "8   742.72180 -10.237509  -0.736216    Rural_Sokoto   3.431843    2143.3   \n",
       "9   747.38030  -3.767334  -3.105643  Rural_Kilimani   8.239554     796.6   \n",
       "10  756.92020  -7.538599  -0.578555    Rural_Sokoto   9.371509    1544.7   \n",
       "11  393.83450 -12.855317  -8.159821    Rural_Akatsi  36.340670    1753.3   \n",
       "12  660.68270  -2.640910  -3.839896  Rural_Kilimani   8.705346     612.7   \n",
       "13  790.90894  -8.822722  -7.421064    Rural_Akatsi  17.159893    1575.0   \n",
       "14  618.16815  -8.813710  -0.938924    Rural_Sokoto  23.239878    1673.9   \n",
       "15  639.52563  -5.916549  -2.114628   Rural_Hawassa   0.854950     913.0   \n",
       "16  808.43085  -8.561391  -1.974985    Rural_Sokoto  16.707561    1693.4   \n",
       "17  454.19534 -10.377186  -7.353495    Rural_Akatsi   9.985941    1700.5   \n",
       "18  768.06274  -8.074776   0.480030    Rural_Sokoto  10.411442    1756.8   \n",
       "19  610.99400  -6.948353  -2.966000   Rural_Hawassa  16.369598     902.8   \n",
       "\n",
       "    Min_temperature_C  Max_temperature_C  Ave_temps  Soil_fertility Soil_type  \\\n",
       "0                -3.1               33.1      15.00            0.62     Sandy   \n",
       "1                -3.9               30.6      13.35            0.64  Volcanic   \n",
       "2                -1.8               28.4      13.30            0.69  Volcanic   \n",
       "3                -5.8               32.2      13.20            0.54     Loamy   \n",
       "4                -2.5               31.0      14.25            0.72     Sandy   \n",
       "5                -3.0               29.5      13.25            0.70     Sandy   \n",
       "6                -6.8               31.8      12.50            0.63      Silt   \n",
       "7                -3.0               31.0      14.00            0.63     Sandy   \n",
       "8                -2.6               28.2      12.80            0.66  Volcanic   \n",
       "9                -3.8               32.7      14.45            0.58     Sandy   \n",
       "10               -3.1               30.5      13.70            0.64  Volcanic   \n",
       "11               -6.3               31.8      12.75            0.74      Silt   \n",
       "12               -4.7               29.8      12.55            0.57     Sandy   \n",
       "13               -2.8               31.6      14.40            0.66  Volcanic   \n",
       "14               -4.2               30.9      13.35            0.69      Silt   \n",
       "15               -4.7               32.4      13.85            0.56     Sandy   \n",
       "16               -2.4               30.0      13.80            0.67  Volcanic   \n",
       "17               -5.6               31.3      12.85            0.65      Silt   \n",
       "18               -2.7               32.4      14.85            0.66  Volcanic   \n",
       "19               -4.9               28.4      11.75            0.61     Loamy   \n",
       "\n",
       "          pH  Pollution_level  Plot_size  Crop_type Annual_yield  \\\n",
       "0   6.169393     8.526684e-02        1.3   0.751354      cassava   \n",
       "1   5.676648     3.996838e-01        2.2   1.069865      cassava   \n",
       "2   5.331993     3.580286e-01        3.4   2.208801          tea   \n",
       "3   5.328150     2.866871e-01        2.4   1.277635      cassava   \n",
       "4   5.721234     4.319027e-02        1.5   0.832614        wheat   \n",
       "5   5.484350     1.275280e-01        1.7   1.112611       potato   \n",
       "6   7.061317     4.315457e-07        2.9   0.994325       banana   \n",
       "7   4.577043     6.131074e-01        1.4   0.558899          tea   \n",
       "8   5.447321     2.784792e-01       13.9   8.532665       coffee   \n",
       "9   4.897414     3.103862e-01        4.6   2.214679      cassava   \n",
       "10  5.831129     4.451287e-01        3.2   1.516281       coffee   \n",
       "11  6.254509     3.991820e-03        1.9   0.936805       banana   \n",
       "12  5.491848     1.890157e-01        4.2   2.606619       potato   \n",
       "13  5.555430     5.162512e-02        1.1   0.793193          tea   \n",
       "14  5.580686     9.116491e-02        1.3   0.582260      cassava   \n",
       "15  5.688561     7.038842e-01       13.1   4.451768        wheat   \n",
       "16  3.768238     1.008553e-01        1.2   0.767907          tea   \n",
       "17  7.196079     3.038204e-02        2.5   0.960322       banana   \n",
       "18  4.434905     1.709666e-01        2.5   1.952492          tea   \n",
       "19  4.698949     3.034867e-01        1.5   0.791114        wheat   \n",
       "\n",
       "    Standard_yield  \n",
       "0         0.577964  \n",
       "1         0.486302  \n",
       "2         0.649647  \n",
       "3         0.532348  \n",
       "4         0.555076  \n",
       "5         0.654477  \n",
       "6         0.342871  \n",
       "7         0.399214  \n",
       "8         0.613861  \n",
       "9         0.481452  \n",
       "10        0.473838  \n",
       "11        0.493055  \n",
       "12        0.620624  \n",
       "13        0.721085  \n",
       "14        0.447893  \n",
       "15        0.339830  \n",
       "16        0.639922  \n",
       "17        0.384129  \n",
       "18        0.780997  \n",
       "19        0.527409  "
      ]
     },
     "execution_count": 12,
     "metadata": {},
     "output_type": "execute_result"
    }
   ],
   "source": [
    "MD_agric_df.head(20)"
   ]
  },
  {
   "cell_type": "markdown",
   "id": "0b0cc230",
   "metadata": {},
   "source": [
    "Note that there are a couple of `Field_ID` columns in our DataFrame that we need to remove since we're not interested in particular farms for now."
   ]
  },
  {
   "cell_type": "code",
   "execution_count": 10,
   "id": "d8e8d24c",
   "metadata": {},
   "outputs": [],
   "source": [
    "# Now, drop all columns named 'Field_ID'.\n",
    "MD_agric_df.drop(columns = 'Field_ID', inplace = True)"
   ]
  },
  {
   "cell_type": "code",
   "execution_count": 15,
   "id": "c70d89fa-bdb7-47c1-b9df-6071d35b678b",
   "metadata": {},
   "outputs": [
    {
     "data": {
      "text/plain": [
       "array(['cassava', 'tea', 'wheat', 'potato', 'banana', 'coffee', 'rice',\n",
       "       'maize', 'wheat ', 'tea ', 'cassaval', 'wheatn', 'cassava ',\n",
       "       'teaa'], dtype=object)"
      ]
     },
     "execution_count": 15,
     "metadata": {},
     "output_type": "execute_result"
    }
   ],
   "source": [
    "unique_crop_type = MD_agric_df[\"Annual_yield\"].unique()\n",
    "unique_crop_type"
   ]
  },
  {
   "cell_type": "markdown",
   "id": "0837de59",
   "metadata": {},
   "source": [
    "# Data cleanup"
   ]
  },
  {
   "cell_type": "markdown",
   "id": "8da2b362",
   "metadata": {},
   "source": [
    "I noticed some errors in the data. Here's what I picked up:\n",
    "\n",
    "1. There are some swapped column names. Please ensure to use the correct name. \n",
    "\n",
    "2. Some of the crop types contain spelling errors.\n",
    "\n",
    "3.  The `Elevation` column contains some negative values, which are not plausible, so change these to positive values.\n",
    "\n",
    "Use your Pandas skills to clean up the data."
   ]
  },
  {
   "cell_type": "code",
   "execution_count": null,
   "id": "26b22740",
   "metadata": {},
   "outputs": [],
   "source": [
    "# Insert your code here"
   ]
  },
  {
   "cell_type": "markdown",
   "id": "b5c0fed1",
   "metadata": {},
   "source": [
    "## Final data checkup"
   ]
  },
  {
   "cell_type": "markdown",
   "id": "321fdc11",
   "metadata": {},
   "source": [
    "Compare your answers to the expected output to make sure your data is corrected."
   ]
  },
  {
   "cell_type": "code",
   "execution_count": null,
   "id": "3000a401",
   "metadata": {},
   "outputs": [],
   "source": [
    "len(MD_agric_df['Crop_type'].unique())"
   ]
  },
  {
   "cell_type": "markdown",
   "id": "aa8309f1",
   "metadata": {},
   "source": [
    "Expected output: `8`"
   ]
  },
  {
   "cell_type": "code",
   "execution_count": null,
   "id": "e1371959",
   "metadata": {},
   "outputs": [],
   "source": [
    "MD_agric_df['Elevation'].min()"
   ]
  },
  {
   "cell_type": "markdown",
   "id": "1ffa4440",
   "metadata": {},
   "source": [
    "Expected output: `35.910797`"
   ]
  },
  {
   "cell_type": "code",
   "execution_count": null,
   "id": "87ba5369",
   "metadata": {},
   "outputs": [],
   "source": [
    "MD_agric_df['Annual_yield'].dtype"
   ]
  },
  {
   "cell_type": "markdown",
   "id": "0697d96b",
   "metadata": {},
   "source": [
    "Expected outcome: `dtype('float64')`"
   ]
  },
  {
   "cell_type": "markdown",
   "id": "0324a485",
   "metadata": {},
   "source": [
    "# Analysis"
   ]
  },
  {
   "cell_type": "markdown",
   "id": "9a1fddb1",
   "metadata": {},
   "source": [
    "## Challenge 1: Uncovering crop preferences"
   ]
  },
  {
   "cell_type": "markdown",
   "id": "55b8dc1b",
   "metadata": {},
   "source": [
    "Now that we have our data ready, let's delve into understanding where different crops are grown in Maji Ndogo. Our initial step is to focus on tea, a key crop in Maji Ndogo. We need to determine the optimal conditions for its growth. By analyzing data related to elevation, rainfall, and soil type specifically for tea plantations, we'll start to paint a picture of where our farming systems could thrive.\n",
    "\n",
    "**Task:**\n",
    "Create a function that includes only tea fields and returns a tuple with the mean `Rainfall` and the mean `Elevation`. The function should input the full DataFrame, a string value for the crop type to filter by, and output a tuple with rainfall and elevation.\n"
   ]
  },
  {
   "cell_type": "code",
   "execution_count": null,
   "id": "86896dc5",
   "metadata": {},
   "outputs": [],
   "source": [
    "### START FUNCTION\n",
    "def explore_crop_distribution(df,crop_filter):\n",
    "    # Insert your code here\n",
    "### END FUNCTION"
   ]
  },
  {
   "cell_type": "markdown",
   "id": "9be4474e",
   "metadata": {},
   "source": [
    "Input:"
   ]
  },
  {
   "cell_type": "code",
   "execution_count": null,
   "id": "66ca9510",
   "metadata": {},
   "outputs": [],
   "source": [
    "explore_crop_distribution(MD_agric_df, \"tea\")"
   ]
  },
  {
   "cell_type": "markdown",
   "id": "2ae64880",
   "metadata": {},
   "source": [
    "Expected output: `(1534.5079956188388, 775.208667535597)`"
   ]
  },
  {
   "cell_type": "code",
   "execution_count": null,
   "id": "56d76595",
   "metadata": {},
   "outputs": [],
   "source": [
    "explore_crop_distribution(MD_agric_df, \"wheat\")"
   ]
  },
  {
   "cell_type": "markdown",
   "id": "74cd8725",
   "metadata": {},
   "source": [
    "Expected output: `(1010.2859910581222, 595.8384148002981)`"
   ]
  },
  {
   "cell_type": "markdown",
   "id": "78795c87",
   "metadata": {},
   "source": [
    "Repeat this for a couple of crops to get a feeling for where crops are planted in Majio Ndogo."
   ]
  },
  {
   "cell_type": "markdown",
   "id": "2372ccb9",
   "metadata": {},
   "source": [
    "## Challenge 2: Finding fertile grounds\n"
   ]
  },
  {
   "cell_type": "markdown",
   "id": "628c4cc1",
   "metadata": {},
   "source": [
    "With insights into tea cultivation, let's broaden our horizons. Fertile soil is the bedrock of successful farming. By grouping our data by location and soil type, we'll pinpoint where the most fertile soils in Maji Ndogo are. These fertile zones could be prime candidates for diverse crop cultivation, maximising our yield.\n",
    "\n",
    "We’ll group our data by soil type to see where the most fertile grounds are. This information will be vital for deciding where to deploy our farming technology.\n",
    "\n",
    "**Task:** Create a function that groups the data by `Soil_type`, and returns the `Soil_fertility`."
   ]
  },
  {
   "cell_type": "code",
   "execution_count": null,
   "id": "064f3d6b",
   "metadata": {},
   "outputs": [],
   "source": [
    "### START FUNCTION\n",
    "def analyse_soil_fertility(df):\n",
    "    # Insert your code here\n",
    "### END FUNCTION"
   ]
  },
  {
   "cell_type": "markdown",
   "id": "39424119",
   "metadata": {},
   "source": [
    "Input:"
   ]
  },
  {
   "cell_type": "code",
   "execution_count": null,
   "id": "bc11f72f",
   "metadata": {},
   "outputs": [],
   "source": [
    "analyse_soil_fertility(MD_agric_df)"
   ]
  },
  {
   "cell_type": "markdown",
   "id": "788a7f56",
   "metadata": {},
   "source": [
    "Expected output:\n",
    "```python Soil_Type\n",
    "Loamy       0.585868\n",
    "Peaty       0.604882\n",
    "Rocky       0.582368\n",
    "Sandy       0.595669\n",
    "Silt        0.652654\n",
    "Volcanic    0.648894\n",
    "Name: Soil_Fertility, dtype: float64\n",
    "```"
   ]
  },
  {
   "cell_type": "markdown",
   "id": "e9b1845f",
   "metadata": {},
   "source": [
    "Try digging into the data a bit more by aggregating various data to identify some more patterns. "
   ]
  },
  {
   "cell_type": "markdown",
   "id": "8e2d8de9",
   "metadata": {},
   "source": [
    "## Challenge 3: Climate and geography analysis"
   ]
  },
  {
   "cell_type": "markdown",
   "id": "8cc62613",
   "metadata": {},
   "source": [
    "Now, let's delve into how climate and geography influence farming. By understanding the relationship between factors like elevation, temperature, and rainfall with crop yields, we can identify the most suitable areas for different crops. This analysis is key to ensuring our automated systems are deployed in locations that will maximise their effectiveness.\n",
    "\n",
    "**Task:** Create a function that takes in a DataFrame and the column name, and groups the data by that column, and aggregates the data by the means of `Elevation`, `Min_temperature_C`, `Max_temperature_C`, and `Rainfall`, and outputs a DataFrame. Please ensure that the order of the columns matches the output."
   ]
  },
  {
   "cell_type": "code",
   "execution_count": null,
   "id": "29474e68",
   "metadata": {},
   "outputs": [],
   "source": [
    "### START FUNCTION\n",
    "def climate_geography_influence(df,column):\n",
    "    # Insert your code here\n",
    "### END FUNCTION"
   ]
  },
  {
   "cell_type": "markdown",
   "id": "6448a869",
   "metadata": {},
   "source": [
    "Input:"
   ]
  },
  {
   "cell_type": "code",
   "execution_count": null,
   "id": "4c214f59",
   "metadata": {},
   "outputs": [],
   "source": [
    "climate_geography_influence(MD_agric_df, 'Crop_type')"
   ]
  },
  {
   "cell_type": "markdown",
   "id": "802ce1a4",
   "metadata": {},
   "source": [
    "Expected output:\n",
    "\n",
    "```sql\n",
    "Crop_type \tElevation\tMin_temperature_C\tMax_temperature_C\tRainfall\t\t\t\n",
    "banana\t\t487.973572\t-5.354344\t\t31.988152\t    1659.905687\n",
    "cassava\t\t682.903008\t-3.992113\t\t30.902381\t    1210.543006\n",
    "coffee\t\t647.047734\t-4.028007\t\t30.855189\t    1527.265074\n",
    "maize\t\t680.596982\t-4.497995\t\t30.576692\t    681.010276\n",
    "potato\t\t696.313917\t-4.375334\t\t30.300608\t    660.289064\n",
    "rice\t\t352.858053\t-6.610566\t\t32.727170\t    1632.382642\n",
    "tea\t\t775.208668\t-2.862651\t\t29.950383\t    1534.507996\n",
    "wheat\t\t595.838415\t-4.968107\t\t30.973845\t    1010.285991\n",
    "```"
   ]
  },
  {
   "cell_type": "markdown",
   "id": "977babed",
   "metadata": {},
   "source": [
    "## Challenge 4: Advanced sorting techniques"
   ]
  },
  {
   "cell_type": "markdown",
   "id": "ebf9f6f7",
   "metadata": {},
   "source": [
    "Quite often it is better to improve the things you're good at than improving the things you're bad at. So the question is, which crop is the top performer in Maji Ndogo, and under what conditions does it perform well? \n",
    "\n",
    "To answer this, we need to:\n",
    "1. Filter all the fields with an above-average `Standard_yield` (do you have flashbacks to SQL subqueries right now?).\n",
    "2. Then group by <?> crop type, using `count()`.\n",
    "3. Sort the values to get the top crop type on top.\n",
    "4. Retrieve the name of the top index. See the hint below on how to do this. \n",
    "\n",
    "**Task:** Create a function that takes a DataFrame as input, filters, groups and sorts, and outputs a string value of a crop type."
   ]
  },
  {
   "cell_type": "markdown",
   "id": "13b3d881",
   "metadata": {},
   "source": [
    "**Hint:** When you have grouped by a column, we can access the labels of that \"index column\" using `.index`. For example: "
   ]
  },
  {
   "cell_type": "code",
   "execution_count": null,
   "id": "c0deef7c",
   "metadata": {},
   "outputs": [],
   "source": [
    "grouped_df = MD_agric_df.groupby(\"Soil_type\").mean(numeric_only = True).sort_values(by=\"Elevation\",ascending=False)\n",
    "print(grouped_df.index[0])\n",
    "grouped_df"
   ]
  },
  {
   "cell_type": "code",
   "execution_count": null,
   "id": "4a4791a6",
   "metadata": {},
   "outputs": [],
   "source": [
    "### START FUNCTION\n",
    "def find_ideal_fields(df):\n",
    "    # Insert your code here\n",
    "### END FUNCTION"
   ]
  },
  {
   "cell_type": "markdown",
   "id": "7efcc079",
   "metadata": {},
   "source": [
    "Input:"
   ]
  },
  {
   "cell_type": "code",
   "execution_count": null,
   "id": "01448eb0",
   "metadata": {},
   "outputs": [],
   "source": [
    "type(find_ideal_fields(MD_agric_df))"
   ]
  },
  {
   "cell_type": "markdown",
   "id": "8fd44b50",
   "metadata": {},
   "source": [
    "Expected output: `str`"
   ]
  },
  {
   "cell_type": "markdown",
   "id": "ad7289df",
   "metadata": {},
   "source": [
    "# Challenge 5: Advanced filtering techniques"
   ]
  },
  {
   "cell_type": "markdown",
   "id": "7956f3ab",
   "metadata": {},
   "source": [
    "Now we know that <?> is our most successful crop, we can look at what makes it successful.\n",
    "\n",
    "Create a function that takes a DataFrame as input, and the type of crop, and filters the DataFrame using the following conditions:\n",
    "1. Filter by crop type.\n",
    "\n",
    "2. Select only rows that have above average `Standard_yield`.\n",
    "\n",
    "3. Select only rows that have `Ave_temps` >= 12 but =< 15.\n",
    "\n",
    "4. Have a `Pollution_level` lower than 0.0001."
   ]
  },
  {
   "cell_type": "code",
   "execution_count": null,
   "id": "b99d9e12",
   "metadata": {},
   "outputs": [],
   "source": [
    "### START FUNCTION\n",
    "def find_good_conditions(df, crop_type):\n",
    "    # Insert your code here\n",
    "### END FUNCTION"
   ]
  },
  {
   "cell_type": "markdown",
   "id": "c5bc44d2",
   "metadata": {},
   "source": [
    "Input:"
   ]
  },
  {
   "cell_type": "code",
   "execution_count": null,
   "id": "209203d1",
   "metadata": {},
   "outputs": [],
   "source": [
    "find_good_conditions(MD_agric_df, \"tea\").shape"
   ]
  },
  {
   "cell_type": "markdown",
   "id": "a522fb89",
   "metadata": {},
   "source": [
    "Expected output: `(14, 17)`"
   ]
  },
  {
   "cell_type": "markdown",
   "id": "463b4aa3",
   "metadata": {},
   "source": [
    "# Extra Pandas \"nuggets\""
   ]
  },
  {
   "cell_type": "markdown",
   "id": "c2ffa827",
   "metadata": {},
   "source": [
    "We have not even scratched the surface of Pandas or our dataset. If you remember back to your days with Chidi, it took a while before we could unlock the secrets the survey data had. So, scratch around a bit.\n",
    "\n",
    "On the Pandas front, it's the same. Pandas is a very powerful data analysis tool that takes a while to master. Many of the more advanced methods like window functions, dynamically retrieving or changing data, vectorisation, or processing big data with Pandas are all more advanced topics we encounter in the workplace.\n",
    "\n",
    "But here are two tiny 'nuggets' to upskill in Pandas."
   ]
  },
  {
   "cell_type": "markdown",
   "id": "184dc608",
   "metadata": {},
   "source": [
    "## df.query()"
   ]
  },
  {
   "cell_type": "markdown",
   "id": "026086fc",
   "metadata": {},
   "source": [
    "Oh, you're going to love this one... `df.query()` was designed to filter data, but using SQL-like syntax. For example:"
   ]
  },
  {
   "cell_type": "code",
   "execution_count": null,
   "id": "a3d22c0b",
   "metadata": {},
   "outputs": [],
   "source": [
    "MD_agric_df.query('Standard_yield > 0.5 and Soil_type == \"Loamy\"')"
   ]
  },
  {
   "cell_type": "markdown",
   "id": "afdb4b96",
   "metadata": {},
   "source": [
    "Isn't that much easier to read and understand than the one below?"
   ]
  },
  {
   "cell_type": "code",
   "execution_count": null,
   "id": "b0cb4b7b",
   "metadata": {},
   "outputs": [],
   "source": [
    "MD_agric_df[(MD_agric_df['Standard_yield'] > 0.5) & (MD_agric_df['Soil_type'] == 'Loamy')]"
   ]
  },
  {
   "cell_type": "markdown",
   "id": "ae060c3f",
   "metadata": {},
   "source": [
    "The nice thing is, we can use `in []`, `not in []` to filter with, and also pass in variables using `@variable_name`."
   ]
  },
  {
   "cell_type": "code",
   "execution_count": null,
   "id": "91cde683",
   "metadata": {},
   "outputs": [],
   "source": [
    "soil_types = ['Loamy', 'Sandy', 'Silt']\n",
    "\n",
    "MD_agric_df.query('Soil_type in @soil_types')"
   ]
  },
  {
   "cell_type": "markdown",
   "id": "f5b3f939",
   "metadata": {},
   "source": [
    "# Plotting data with Pandas"
   ]
  },
  {
   "cell_type": "markdown",
   "id": "757d5c23",
   "metadata": {},
   "source": [
    "Sometimes we quickly want to see a basic visualisation of our data. we can use `df.plot(kind='bar')` to make a bar plot, `df.plot(kind='hist', bins = 10)` to see the distribution of a data column, or `df.plot(kind='scatter', x='Column_on_x', y='Column_on_y')` to understand the relationship between variables."
   ]
  },
  {
   "cell_type": "code",
   "execution_count": null,
   "id": "2da1e0bc",
   "metadata": {},
   "outputs": [],
   "source": [
    "MD_agric_df.groupby('Crop_type')['Standard_yield'].mean().plot(kind='bar')"
   ]
  },
  {
   "cell_type": "code",
   "execution_count": null,
   "id": "7fff3aab",
   "metadata": {},
   "outputs": [],
   "source": [
    "MD_agric_df['Standard_yield'].plot(kind='hist', bins =20)"
   ]
  },
  {
   "cell_type": "code",
   "execution_count": null,
   "id": "8570713a",
   "metadata": {},
   "outputs": [],
   "source": [
    "MD_agric_df.plot(kind='scatter', x = \"Pollution_level\", y = \"Standard_yield\")"
   ]
  },
  {
   "cell_type": "markdown",
   "id": "383a7d2a",
   "metadata": {},
   "source": [
    "We can use these plots to get a quick feel for the data, but we can't really customise these much. For that we need some better tools. "
   ]
  },
  {
   "cell_type": "markdown",
   "id": "26fd094b-0fee-46f1-a4b8-73766813c42b",
   "metadata": {
    "tags": []
   },
   "source": [
    "#  \n",
    "\n",
    "<div align=\"center\" style=\" font-size: 80%; text-align: center; margin: 0 auto\">\n",
    "<img src=\"https://raw.githubusercontent.com/Explore-AI/Pictures/master/ExploreAI_logos/EAI_Blue_Dark.png\"  style=\"width:200px\";/>\n",
    "</div>"
   ]
  }
 ],
 "metadata": {
  "kernelspec": {
   "display_name": "Python 3 (ipykernel)",
   "language": "python",
   "name": "python3"
  },
  "language_info": {
   "codemirror_mode": {
    "name": "ipython",
    "version": 3
   },
   "file_extension": ".py",
   "mimetype": "text/x-python",
   "name": "python",
   "nbconvert_exporter": "python",
   "pygments_lexer": "ipython3",
   "version": "3.11.7"
  }
 },
 "nbformat": 4,
 "nbformat_minor": 5
}
